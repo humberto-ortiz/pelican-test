{
 "cells": [
  {
   "cell_type": "markdown",
   "metadata": {},
   "source": [
    "# Introduction\n",
    "\n",
    "At the [2015 SHILAC hackathon](http://shilac.org/), mentors from [MIT Hacking Medicine](http://hackingmedicine.mit.edu/) suggested I look at the [BRFSS](http://www.cdc.gov/brfss/) data on [asthma](https://data.pr.gov/Salud/BRFSS-2012-Asthma/932y-rwhp) published by the government of Puerto Rico. I spent the weekend trying to learn enough scikit-learn to build the tree, and then broke down and did it in R.\n",
    "\n",
    "It's much easier to do in R.\n",
    "\n",
    "I did spend a couple of interesting days trying to set up jupyter to run R code. There shouls be support in anaconda, but it's broken (in late November). I did get it to run under docker using the [suggested procedure](https://github.com/IRkernel/IRkernel)."
   ]
  },
  {
   "cell_type": "markdown",
   "metadata": {},
   "source": [
    "# Methods\n",
    "\n",
    "We will use the party R package to create the decision trees. You need to run the following code at least once to make sure party is installed."
   ]
  },
  {
   "cell_type": "code",
   "execution_count": 1,
   "metadata": {
    "collapsed": false
   },
   "outputs": [
    {
     "name": "stderr",
     "output_type": "stream",
     "text": [
      "Installing package into ‘/usr/local/lib/R/site-library’\n",
      "(as ‘lib’ is unspecified)\n"
     ]
    },
    {
     "name": "stdout",
     "output_type": "stream",
     "text": [
      "\n",
      "The downloaded source packages are in\n",
      "\t‘/tmp/Rtmp9tMAEw/downloaded_packages’\n"
     ]
    },
    {
     "name": "stderr",
     "output_type": "stream",
     "text": [
      "Bioconductor version 3.2 (BiocInstaller 1.20.1), ?biocLite for help\n",
      "BioC_mirror: https://bioconductor.org\n",
      "Using Bioconductor 3.2 (BiocInstaller 1.20.1), R 3.2.2 (2015-08-14).\n",
      "Installing package(s) ‘party’\n",
      "also installing the dependencies ‘TH.data’, ‘multcomp’, ‘mvtnorm’, ‘modeltools’, ‘strucchange’, ‘coin’, ‘zoo’, ‘sandwich’\n",
      "\n"
     ]
    },
    {
     "name": "stdout",
     "output_type": "stream",
     "text": [
      "\n",
      "The downloaded source packages are in\n",
      "\t‘/tmp/Rtmp9tMAEw/downloaded_packages’\n"
     ]
    },
    {
     "name": "stderr",
     "output_type": "stream",
     "text": [
      "Old packages: 'MASS', 'mgcv', 'spatial'\n",
      "Loading required package: grid\n",
      "Loading required package: mvtnorm\n",
      "Loading required package: modeltools\n",
      "Loading required package: stats4\n",
      "Loading required package: strucchange\n",
      "Loading required package: zoo\n",
      "\n",
      "Attaching package: ‘zoo’\n",
      "\n",
      "The following objects are masked from ‘package:base’:\n",
      "\n",
      "    as.Date, as.Date.numeric\n",
      "\n",
      "Loading required package: sandwich\n"
     ]
    }
   ],
   "source": [
    "source(\"http://bioconductor.org/biocLite.R\")\n",
    "biocLite(\"party\")\n",
    "library(party)"
   ]
  },
  {
   "cell_type": "markdown",
   "metadata": {},
   "source": [
    "The data is available on the government of Puerto Rico's data portal. Download a copy if you don't already have it."
   ]
  },
  {
   "cell_type": "code",
   "execution_count": 2,
   "metadata": {
    "collapsed": true
   },
   "outputs": [],
   "source": [
    "download.file(\"https://data.pr.gov/api/views/932y-rwhp/rows.csv?accessType=DOWNLOAD\", \"BRFSS_2012_Asthma.csv\")"
   ]
  },
  {
   "cell_type": "markdown",
   "metadata": {},
   "source": [
    "We can read the csv file directly into R. They use a strange encoding for not available."
   ]
  },
  {
   "cell_type": "code",
   "execution_count": 3,
   "metadata": {
    "collapsed": true
   },
   "outputs": [],
   "source": [
    "BRFSS_2012_Asthma <- read.csv(\"BRFSS_2012_Asthma.csv\", na.strings=\"#N/A\")"
   ]
  },
  {
   "cell_type": "markdown",
   "metadata": {},
   "source": [
    "We also need to remove the rows that are missing the target variable (Asma)."
   ]
  },
  {
   "cell_type": "code",
   "execution_count": 4,
   "metadata": {
    "collapsed": false
   },
   "outputs": [
    {
     "data": {
      "text/html": [
       "<table>\n",
       "<thead><tr><th></th><th scope=col>ID.NUMBER</th><th scope=col>Asma</th><th scope=col>EDAD</th><th scope=col>SEXO</th><th scope=col>EDUCACION</th><th scope=col>INGRESO.ANNUAL</th><th scope=col>ESTADO.MARITAL</th><th scope=col>EMPLEO</th><th scope=col>BMI</th><th scope=col>FUMA</th><th scope=col>REGION.DE.SALUD</th></tr></thead>\n",
       "<tbody>\n",
       "\t<tr><th scope=row>1</th><td>988089</td><td>No</td><td>65<</td><td>Male</td><td>HSGraduate</td><td><15k</td><td>Widowed</td><td>Retired</td><td>NA</td><td>NA</td><td>Bayamon</td></tr>\n",
       "\t<tr><th scope=row>2</th><td>988090</td><td>No</td><td>65<</td><td>Female</td><td>HS</td><td>NA</td><td>Widowed</td><td>Homemaker</td><td>NA</td><td>No</td><td>Arecibo</td></tr>\n",
       "\t<tr><th scope=row>3</th><td>988091</td><td>Yes</td><td>55-64</td><td>Female</td><td>NA</td><td>NA</td><td>NA</td><td>Homemaker</td><td>Obese</td><td>No</td><td>Caguas</td></tr>\n",
       "\t<tr><th scope=row>4</th><td>988092</td><td>No</td><td>55-64</td><td>Female</td><td>UniverGrad</td><td>15k-<25k</td><td>Nevermarried</td><td>Outwork</td><td>Overweight</td><td>No</td><td>Arecibo</td></tr>\n",
       "\t<tr><th scope=row>5</th><td>988093</td><td>No</td><td>35-44</td><td>Male</td><td>UniverGrad</td><td>NA</td><td>Married</td><td>Employ</td><td>Overweight</td><td>No</td><td>Metro</td></tr>\n",
       "</tbody>\n",
       "</table>\n"
      ],
      "text/latex": [
       "\\begin{tabular}{r|lllllllllll}\n",
       "  & ID.NUMBER & Asma & EDAD & SEXO & EDUCACION & INGRESO.ANNUAL & ESTADO.MARITAL & EMPLEO & BMI & FUMA & REGION.DE.SALUD\\\\\n",
       "\\hline\n",
       "\t1 & 988089 & No & 65< & Male & HSGraduate & <15k & Widowed & Retired & NA & NA & Bayamon\\\\\n",
       "\t2 & 988090 & No & 65< & Female & HS & NA & Widowed & Homemaker & NA & No & Arecibo\\\\\n",
       "\t3 & 988091 & Yes & 55-64 & Female & NA & NA & NA & Homemaker & Obese & No & Caguas\\\\\n",
       "\t4 & 988092 & No & 55-64 & Female & UniverGrad & 15k-<25k & Nevermarried & Outwork & Overweight & No & Arecibo\\\\\n",
       "\t5 & 988093 & No & 35-44 & Male & UniverGrad & NA & Married & Employ & Overweight & No & Metro\\\\\n",
       "\\end{tabular}\n"
      ],
      "text/plain": [
       "  ID.NUMBER Asma  EDAD   SEXO  EDUCACION INGRESO.ANNUAL ESTADO.MARITAL\n",
       "1    988089   No   65<   Male HSGraduate           <15k        Widowed\n",
       "2    988090   No   65< Female         HS           <NA>        Widowed\n",
       "3    988091  Yes 55-64 Female       <NA>           <NA>           <NA>\n",
       "4    988092   No 55-64 Female UniverGrad       15k-<25k   Nevermarried\n",
       "5    988093   No 35-44   Male UniverGrad           <NA>        Married\n",
       "     EMPLEO        BMI FUMA REGION.DE.SALUD\n",
       "1   Retired       <NA> <NA>         Bayamon\n",
       "2 Homemaker       <NA>   No         Arecibo\n",
       "3 Homemaker      Obese   No          Caguas\n",
       "4   Outwork Overweight   No         Arecibo\n",
       "5    Employ Overweight   No           Metro"
      ]
     },
     "execution_count": 4,
     "metadata": {},
     "output_type": "execute_result"
    }
   ],
   "source": [
    "# remove all NA\n",
    "data <- BRFSS_2012_Asthma[!is.na(BRFSS_2012_Asthma$Asma),]\n",
    "data[1:5,]"
   ]
  },
  {
   "cell_type": "markdown",
   "metadata": {},
   "source": [
    "Now we are ready to build the decision tree. We will use a model that includes all columns."
   ]
  },
  {
   "cell_type": "code",
   "execution_count": 5,
   "metadata": {
    "collapsed": true
   },
   "outputs": [],
   "source": [
    "fit <- ctree(Asma ~ EDAD + SEXO + EDUCACION + INGRESO.ANNUAL + ESTADO.MARITAL + EMPLEO + BMI + FUMA + REGION.DE.SALUD,\n",
    "            data=data)"
   ]
  },
  {
   "cell_type": "markdown",
   "metadata": {},
   "source": [
    "# Results\n",
    "\n",
    "We can plot the tree and see the variables that have the most influence on the condition."
   ]
  },
  {
   "cell_type": "markdown",
   "metadata": {},
   "source": [
    "Workaround for issue with svg plots in jupyter (bad interaction with pelican?). See [this gist](http://nbviewer.ipython.org/gist/cfljam/a52f8c47acc7ee6890bb) for discussion.\n",
    "\n",
    "I _love_ working on the bleeding edge of software development."
   ]
  },
  {
   "cell_type": "code",
   "execution_count": 6,
   "metadata": {
    "collapsed": true
   },
   "outputs": [],
   "source": [
    "options(jupyter.plot_mimetypes = 'image/png')"
   ]
  },
  {
   "cell_type": "code",
   "execution_count": 7,
   "metadata": {
    "collapsed": false
   },
   "outputs": [
    {
     "data": {
      "image/png": "[encoded data removed]"
     },
     "metadata": {},
     "output_type": "display_data"
    }
   ],
   "source": [
    "plot(fit, main=\"Conditional Inference Tree for Asma\")"
   ]
  }
 ],
 "metadata": {
  "kernelspec": {
   "display_name": "R",
   "language": "R",
   "name": "ir"
  },
  "language_info": {
   "codemirror_mode": "r",
   "file_extension": ".r",
   "mimetype": "text/x-r-source",
   "name": "R",
   "pygments_lexer": "r",
   "version": "3.2.2"
  }
 },
 "nbformat": 4,
 "nbformat_minor": 0
}
