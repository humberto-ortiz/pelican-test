{
 "cells": [
  {
   "cell_type": "markdown",
   "metadata": {},
   "source": [
    "Bitcoin uses the same cryptographic concepts we have been discussing in class to achieve a startling result. A decentralized system for financial transactions. Here we will see some of the concepts illustrated with python code.\n",
    "\n",
    "I learned a lot from the bitcoin paper[1], and a couple of blog entries on raw bitcoin[2] and mining[3].\n",
    "\n",
    "# Bitcoins are chains of digital signatures\n",
    "\n",
    "![a bitcoin](images/coins.png)\n"
   ]
  },
  {
   "cell_type": "code",
   "execution_count": 6,
   "metadata": {
    "collapsed": true
   },
   "outputs": [],
   "source": [
    "import sys\n",
    "sys.path.append(\"/home/humberto/Documents/class/2015/cyber2/toys/rsa\")"
   ]
  },
  {
   "cell_type": "code",
   "execution_count": 7,
   "metadata": {
    "collapsed": true
   },
   "outputs": [],
   "source": [
    "import rsa\n",
    "\n",
    "coin = rsa.RSAPrivateKey(64)"
   ]
  },
  {
   "cell_type": "code",
   "execution_count": 8,
   "metadata": {
    "collapsed": false
   },
   "outputs": [
    {
     "data": {
      "text/plain": [
       "\"(5, 141696464709924649492511653706884215967L, 'I just made 25BTC')\""
      ]
     },
     "execution_count": 8,
     "metadata": {},
     "output_type": "execute_result"
    }
   ],
   "source": [
    "pubcoin = coin.GetPublicKey()\n",
    "pubcointuple = pubcoin.e, pubcoin.N, \"I just made 25BTC\"\n",
    "str(pubcointuple)"
   ]
  },
  {
   "cell_type": "code",
   "execution_count": 9,
   "metadata": {
    "collapsed": true
   },
   "outputs": [],
   "source": [
    "sys.path.append(\"/home/humberto/anaconda/envs/cyber2/lib/python2.7/site-packages\")"
   ]
  },
  {
   "cell_type": "code",
   "execution_count": 10,
   "metadata": {
    "collapsed": false
   },
   "outputs": [],
   "source": [
    "import hashlib\n",
    "from merkletools import MerkleTools\n",
    "\n",
    "mt = MerkleTools()\n",
    "\n",
    "pretransactions = [hashlib.sha256(str(pubcointuple)).digest().encode(\"hex\"), \"hash of (I send 1BTC to Julio)\", \"hash of (I send 1BTC to Krystian)\"]"
   ]
  },
  {
   "cell_type": "code",
   "execution_count": 11,
   "metadata": {
    "collapsed": false
   },
   "outputs": [
    {
     "data": {
      "text/plain": [
       "[[504630249641664894383901292028508215L,\n",
       "  255505452750972701062293260732479845L,\n",
       "  297972698342949253392120592133534257L,\n",
       "  251245924270104739894930730978326839L,\n",
       "  260612910109979521957662355907149824L],\n",
       " [541975410483518140009349501134663268L,\n",
       "  167152592680311475874442783945748265L],\n",
       " [541975410483518140009349501134663268L,\n",
       "  167152592680311475874443870791234665L,\n",
       "  505887108688943048551933676877774848L]]"
      ]
     },
     "execution_count": 11,
     "metadata": {},
     "output_type": "execute_result"
    }
   ],
   "source": [
    "es = [rsa.Message.Encode(txn, pubcoin.N).numbers for txn in pretransactions]\n",
    "es"
   ]
  },
  {
   "cell_type": "code",
   "execution_count": 12,
   "metadata": {
    "collapsed": false
   },
   "outputs": [
    {
     "data": {
      "text/plain": [
       "[[11908923437035327175078768015796392559L,\n",
       "  30669950496249226377830731094820207129L,\n",
       "  44172961311871811822930654213672565695L,\n",
       "  123172911476233136905979189094163909971L,\n",
       "  43188382834495278323751536059500387592L],\n",
       " [138632599381808143821930476698617978242L,\n",
       "  84649519227353175027207938061705840870L],\n",
       " [138632599381808143821930476698617978242L,\n",
       "  77296456319505086683048755426268217102L,\n",
       "  94716336958858599883100938620782612818L]]"
      ]
     },
     "execution_count": 12,
     "metadata": {},
     "output_type": "execute_result"
    }
   ],
   "source": [
    "txns = [map(lambda c: rsa.modexp(c, coin.d, coin.N), cs) for cs in es]\n",
    "txns"
   ]
  },
  {
   "cell_type": "code",
   "execution_count": 13,
   "metadata": {
    "collapsed": false
   },
   "outputs": [
    {
     "name": "stdout",
     "output_type": "stream",
     "text": [
      "root: cff7e6e572aef613b5d8b6a9521a42439f2f490cf85d82172080a55dd14880d0\n"
     ]
    }
   ],
   "source": [
    "mt.add_leaf(map(str, txns), True)\n",
    "\n",
    "mt.make_tree()\n",
    "\n",
    "print \"root:\", mt.get_merkle_root()"
   ]
  },
  {
   "cell_type": "code",
   "execution_count": 14,
   "metadata": {
    "collapsed": false
   },
   "outputs": [
    {
     "data": {
      "text/plain": [
       "3"
      ]
     },
     "execution_count": 14,
     "metadata": {},
     "output_type": "execute_result"
    }
   ],
   "source": [
    "mt.get_leaf_count()"
   ]
  },
  {
   "cell_type": "code",
   "execution_count": 15,
   "metadata": {
    "collapsed": false
   },
   "outputs": [
    {
     "data": {
      "text/plain": [
       "[[{'right': 'ba6fa378bed988dfade565eccc07abd0937858211bdfe715cc6c2d246f9c88f2'},\n",
       "  {'right': 'ff877cb2ead86f5b377fab86151b10110123af934d5fae453950b9baa2c79810'}],\n",
       " [{'left': 'b486f113d35b809760686228100c3a5a4bc395f918445a2e5e75e3260a595281'},\n",
       "  {'right': 'ff877cb2ead86f5b377fab86151b10110123af934d5fae453950b9baa2c79810'}],\n",
       " [{'left': '929d1d3cc77e2801cef60c48e9dad013ddd24d751c26ed2ef248a6a33140437a'}]]"
      ]
     },
     "execution_count": 15,
     "metadata": {},
     "output_type": "execute_result"
    }
   ],
   "source": [
    "proofs = [mt.get_proof(i) for i in range(mt.get_leaf_count())]\n",
    "proofs"
   ]
  },
  {
   "cell_type": "code",
   "execution_count": 16,
   "metadata": {
    "collapsed": false
   },
   "outputs": [
    {
     "data": {
      "text/plain": [
       "'b486f113d35b809760686228100c3a5a4bc395f918445a2e5e75e3260a595281'"
      ]
     },
     "execution_count": 16,
     "metadata": {},
     "output_type": "execute_result"
    }
   ],
   "source": [
    "mt.get_leaf(0)"
   ]
  },
  {
   "cell_type": "code",
   "execution_count": 17,
   "metadata": {
    "collapsed": true
   },
   "outputs": [],
   "source": [
    "import hashlib"
   ]
  },
  {
   "cell_type": "code",
   "execution_count": 18,
   "metadata": {
    "collapsed": false
   },
   "outputs": [
    {
     "data": {
      "text/plain": [
       "'b486f113d35b809760686228100c3a5a4bc395f918445a2e5e75e3260a595281'"
      ]
     },
     "execution_count": 18,
     "metadata": {},
     "output_type": "execute_result"
    }
   ],
   "source": [
    "check = hashlib.sha256(str(txns[0])).digest().encode(\"hex\")\n",
    "check"
   ]
  },
  {
   "cell_type": "code",
   "execution_count": 19,
   "metadata": {
    "collapsed": false
   },
   "outputs": [
    {
     "data": {
      "text/plain": [
       "True"
      ]
     },
     "execution_count": 19,
     "metadata": {},
     "output_type": "execute_result"
    }
   ],
   "source": [
    "mt.validate_proof(mt.get_proof(0), check, mt.get_merkle_root())"
   ]
  },
  {
   "cell_type": "code",
   "execution_count": 20,
   "metadata": {
    "collapsed": false
   },
   "outputs": [],
   "source": [
    "digits = \"0123456789ABCDEF\"\n",
    "\n",
    "nonce = -1\n",
    "\n",
    "def encode(nonce, digits):\n",
    "    result = \"\"\n",
    "    while nonce:\n",
    "        result = digits[nonce % len(digits)] + result\n",
    "        nonce /= len(digits)\n",
    "    return result\n",
    "\n"
   ]
  },
  {
   "cell_type": "markdown",
   "metadata": {},
   "source": [
    "Blocks form a chain through their hashes.\n",
    "\n",
    "![Blockchain](images/chain.png)"
   ]
  },
  {
   "cell_type": "code",
   "execution_count": 21,
   "metadata": {
    "collapsed": false
   },
   "outputs": [
    {
     "name": "stdout",
     "output_type": "stream",
     "text": [
      "Found nonce: 1215813 000000c8c68e562df43d8bcf9f2d9f44747721f5b914a7094d68ce2419f52631\n"
     ]
    }
   ],
   "source": [
    "oldblock = \"0 \"\n",
    "digest = mt.get_merkle_root()\n",
    "block = oldblock + digest\n",
    "newhash = hashlib.sha256(block).digest().encode(\"hex\")\n",
    "\n",
    "while not newhash.startswith(\"00000\"):\n",
    "    nonce += 1\n",
    "    newblock = block + encode(nonce, digits)\n",
    "    newhash = hashlib.sha256(newblock).digest().encode(\"hex\")\n",
    "\n",
    "\n",
    "print \"Found nonce:\", nonce, newhash\n"
   ]
  },
  {
   "cell_type": "markdown",
   "metadata": {},
   "source": [
    "# References\n",
    "\n",
    "1. Nakamoto, Satoshi. \"Bitcoin: A peer-to-peer electronic cash system.\" (2008). <https://bitcoin.org/bitcoin.pdf>\n",
    "1. Shirriff, Ken, Bitcoins the hard way. <http://www.righto.com/2014/02/bitcoins-hard-way-using-raw-bitcoin.html>\n",
    "2. Shirriff, Ken. Bitcoin mining the hard way. <http://www.righto.com/2014/02/bitcoin-mining-hard-way-algorithms.html>"
   ]
  }
 ],
 "metadata": {
  "kernelspec": {
   "display_name": "Python 2",
   "language": "python",
   "name": "python2"
  },
  "language_info": {
   "codemirror_mode": {
    "name": "ipython",
    "version": 2
   },
   "file_extension": ".py",
   "mimetype": "text/x-python",
   "name": "python",
   "nbconvert_exporter": "python",
   "pygments_lexer": "ipython2",
   "version": "2.7.10"
  }
 },
 "nbformat": 4,
 "nbformat_minor": 0
}
