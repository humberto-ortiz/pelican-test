{
 "cells": [
  {
   "cell_type": "markdown",
   "metadata": {},
   "source": [
    "# Introduction\n",
    "\n",
    "In a [previous post](//ccom.uprrp.edu/~humberto/very-small-rsa-example.html) we did a very small example of RSA, following [the tutorial by Barry Steyn](http://doctrina.org/How-RSA-Works-With-Examples.html). For working with modular integer arithmetic we used functions from a [toy RSA implementation by Alex Roper](https://github.com/calmofthestorm/toys/blob/master/rsa/rsa.py).\n",
    "\n",
    "That toy implementation has functions for doing plain old RSA with larger keys, and support for encoding strings (and files, from the command line). We're going to use them today to encrypt and sign simple messages."
   ]
  },
  {
   "cell_type": "markdown",
   "metadata": {},
   "source": [
    "# Generating keys\n",
    "\n",
    "With the rsa module, we can generate keys of a specified number of bits. Keys smaller than 2048 bits are not considered secure, but for this example we'll use smaller keys to speed up key generation."
   ]
  },
  {
   "cell_type": "code",
   "execution_count": 1,
   "metadata": {
    "collapsed": true
   },
   "outputs": [],
   "source": [
    "import rsa\n",
    "\n",
    "foo = rsa.RSAPrivateKey(128)"
   ]
  },
  {
   "cell_type": "markdown",
   "metadata": {},
   "source": [
    "Even with the reduced key size we specified, the public modulus is a very large number."
   ]
  },
  {
   "cell_type": "code",
   "execution_count": 2,
   "metadata": {
    "collapsed": false
   },
   "outputs": [
    {
     "data": {
      "text/plain": [
       "69550498568599248814636262475927880397153549410739391320974684455051368768161L"
      ]
     },
     "execution_count": 2,
     "metadata": {},
     "output_type": "execute_result"
    }
   ],
   "source": [
    "foo.N"
   ]
  },
  {
   "cell_type": "markdown",
   "metadata": {},
   "source": [
    "# Factoring"
   ]
  },
  {
   "cell_type": "markdown",
   "metadata": {
    "collapsed": true
   },
   "source": [
    "Factoring this would require serious resources. Factorizing with the sieve of erathostenes. See stack overflow.\n"
   ]
  },
  {
   "cell_type": "code",
   "execution_count": 3,
   "metadata": {
    "collapsed": false
   },
   "outputs": [],
   "source": [
    "import primefac\n",
    "import timeit"
   ]
  },
  {
   "cell_type": "markdown",
   "metadata": {
    "collapsed": true
   },
   "source": [
    "Let's make some primes and factor them."
   ]
  },
  {
   "cell_type": "code",
   "execution_count": 4,
   "metadata": {
    "collapsed": true
   },
   "outputs": [],
   "source": [
    "keysizes = range(8, 81, 8)"
   ]
  },
  {
   "cell_type": "code",
   "execution_count": 5,
   "metadata": {
    "collapsed": false
   },
   "outputs": [
    {
     "name": "stdout",
     "output_type": "stream",
     "text": [
      "8 35183\n",
      "1 loops, best of 1: 175 µs per loop\n",
      "16 2202514189\n",
      "1 loops, best of 1: 987 µs per loop\n",
      "24 182215549431359\n",
      "1 loops, best of 1: 18.6 ms per loop\n",
      "32 9473547811385071913\n",
      "1 loops, best of 1: 595 ms per loop\n",
      "40 733371207625941664998479\n",
      "1 loops, best of 1: 1.05 s per loop\n",
      "48 59511441464217438102568228651\n",
      "1 loops, best of 1: 5.74 s per loop\n",
      "56 2613836591888260129297961647816633\n",
      "1 loops, best of 1: 1.1 s per loop\n",
      "64 184769131732338408876636008980787900621\n",
      "1 loops, best of 1: 35.2 s per loop\n",
      "72 7062950385522509169157930068592940176758811\n",
      "1 loops, best of 1: 23.3 s per loop\n",
      "80 945935078743597431682519190640708990971927975837\n",
      "1 loops, best of 1: 37.9 s per loop\n"
     ]
    }
   ],
   "source": [
    "for bits in keysizes:\n",
    "    k = rsa.RSAPrivateKey(bits)\n",
    "    print bits, k.N\n",
    "    %timeit -n 1 -r 1 list(primefac.primefac(k.N))"
   ]
  },
  {
   "cell_type": "code",
   "execution_count": 6,
   "metadata": {
    "collapsed": false
   },
   "outputs": [],
   "source": [
    "times = [175e-4, 987e-4, 18.6e-3, 595e-3, 1.05, 5.74, 1.1, 35.2, 23.3, 37.9]"
   ]
  },
  {
   "cell_type": "code",
   "execution_count": 7,
   "metadata": {
    "collapsed": false
   },
   "outputs": [
    {
     "data": {
      "image/png": "[encoded data removed]",
      "text/plain": [
       "<matplotlib.figure.Figure at 0x7fab040da950>"
      ]
     },
     "metadata": {},
     "output_type": "display_data"
    }
   ],
   "source": [
    "%matplotlib inline\n",
    "import matplotlib, numpy\n",
    "#matplotlib.use('Agg')\n",
    "import matplotlib.pyplot as plt\n",
    "fig=plt.figure()\n",
    "plt.plot(keysizes, times)\n",
    "plt.yscale('log')\n",
    "fig.tight_layout()\n"
   ]
  },
  {
   "cell_type": "code",
   "execution_count": 8,
   "metadata": {
    "collapsed": false
   },
   "outputs": [
    {
     "data": {
      "text/plain": [
       "69550498568599248814636262475927880397153549410739391320974684455051368768161L"
      ]
     },
     "execution_count": 8,
     "metadata": {},
     "output_type": "execute_result"
    }
   ],
   "source": [
    "foo.N"
   ]
  },
  {
   "cell_type": "markdown",
   "metadata": {},
   "source": [
    "As before, the public key is (e, N) and the private key is (d, N)."
   ]
  },
  {
   "cell_type": "code",
   "execution_count": 9,
   "metadata": {
    "collapsed": false
   },
   "outputs": [
    {
     "data": {
      "text/plain": [
       "7"
      ]
     },
     "execution_count": 9,
     "metadata": {},
     "output_type": "execute_result"
    }
   ],
   "source": [
    "foo.e"
   ]
  },
  {
   "cell_type": "code",
   "execution_count": 10,
   "metadata": {
    "collapsed": false
   },
   "outputs": [
    {
     "data": {
      "text/plain": [
       "39743142039199570751220721414815931655213562129409507979705512251076052783143L"
      ]
     },
     "execution_count": 10,
     "metadata": {},
     "output_type": "execute_result"
    }
   ],
   "source": [
    "foo.d"
   ]
  },
  {
   "cell_type": "markdown",
   "metadata": {},
   "source": [
    "I modified rsa.py to store p, q, and phi(n), so I can dig around the internals of RSA."
   ]
  },
  {
   "cell_type": "code",
   "execution_count": 11,
   "metadata": {
    "collapsed": false
   },
   "outputs": [
    {
     "data": {
      "text/plain": [
       "69550498568599248814636262475927880396623733726466638964484646439383092370500L"
      ]
     },
     "execution_count": 11,
     "metadata": {},
     "output_type": "execute_result"
    }
   ],
   "source": [
    "foo.phi"
   ]
  },
  {
   "cell_type": "markdown",
   "metadata": {},
   "source": [
    "We can quickly verify that e and d are multiplicative inverses in the integers modulo phi(n)."
   ]
  },
  {
   "cell_type": "code",
   "execution_count": 12,
   "metadata": {
    "collapsed": false
   },
   "outputs": [
    {
     "data": {
      "text/plain": [
       "1L"
      ]
     },
     "execution_count": 12,
     "metadata": {},
     "output_type": "execute_result"
    }
   ],
   "source": [
    "(foo.e * foo.d) % foo.phi"
   ]
  },
  {
   "cell_type": "markdown",
   "metadata": {},
   "source": [
    "# Encryption\n",
    "\n",
    "If foo wants to send an encrypted message to bar, he will need bar's public key."
   ]
  },
  {
   "cell_type": "code",
   "execution_count": 13,
   "metadata": {
    "collapsed": false
   },
   "outputs": [],
   "source": [
    "bar = rsa.RSAPrivateKey(128)\n",
    "barpub = bar.GetPublicKey()"
   ]
  },
  {
   "cell_type": "markdown",
   "metadata": {},
   "source": [
    "We will prepare a message to send to bar."
   ]
  },
  {
   "cell_type": "code",
   "execution_count": 14,
   "metadata": {
    "collapsed": false
   },
   "outputs": [],
   "source": [
    "m = \"Attack at dawn. This is a really long message to see if I can get rsa \\\n",
    "to encode it as more than one number.\""
   ]
  },
  {
   "cell_type": "markdown",
   "metadata": {},
   "source": [
    "Recall from last post that we can only encode numbers smaller than n. If we wish to send a longer message, we need to divide it into smaller pieces and send a sequence. For this we need to know bar's public modulus."
   ]
  },
  {
   "cell_type": "code",
   "execution_count": 15,
   "metadata": {
    "collapsed": false
   },
   "outputs": [
    {
     "data": {
      "text/plain": [
       "[115648799396826751567766945599864979770100194381312838842529118569426414700L,\n",
       " 214012274130603322894259128424238691739369727293888509978752859858830192160L,\n",
       " 182685454824088443191059084189136997345550917941544886668325422864334353512L,\n",
       " 172144231835021845661017141195722362689495106685351054972168510011550466048L]"
      ]
     },
     "execution_count": 15,
     "metadata": {},
     "output_type": "execute_result"
    }
   ],
   "source": [
    "encoded = rsa.Message.Encode(m, barpub.N)\n",
    "encoded.numbers"
   ]
  },
  {
   "cell_type": "markdown",
   "metadata": {},
   "source": [
    "Now we are ready to compute the cyphertext. This transforms the encoded message into a cyphertext that only bar's private key can decrypt."
   ]
  },
  {
   "cell_type": "code",
   "execution_count": 16,
   "metadata": {
    "collapsed": false
   },
   "outputs": [],
   "source": [
    "c = barpub.Encrypt(encoded)"
   ]
  },
  {
   "cell_type": "code",
   "execution_count": 17,
   "metadata": {
    "collapsed": false
   },
   "outputs": [
    {
     "data": {
      "text/plain": [
       "[11166131506805351395600319115738595642433728734479689256313552732877670959227L,\n",
       " 11528112540522313404245345275623565705592749354729694613502671450504339718378L,\n",
       " 44507426050276491069955691988155496830453022713213710513888678102680138312985L,\n",
       " 41820501200035057043301872676477553819863607065308403135697928635154775420156L]"
      ]
     },
     "execution_count": 17,
     "metadata": {},
     "output_type": "execute_result"
    }
   ],
   "source": [
    "c.numbers"
   ]
  },
  {
   "cell_type": "code",
   "execution_count": 18,
   "metadata": {
    "collapsed": false
   },
   "outputs": [
    {
     "data": {
      "text/plain": [
       "'Attack at dawn. This is a really long message to see if I can get rsa to encode it as more than one number.'"
      ]
     },
     "execution_count": 18,
     "metadata": {},
     "output_type": "execute_result"
    }
   ],
   "source": [
    "bar.Decrypt(c).Decode()"
   ]
  },
  {
   "cell_type": "markdown",
   "metadata": {},
   "source": [
    "# Signatures\n",
    "\n",
    "A digital signature is just a message that has been encrypted with someone's private key. Thus anyone with the public key can verify that the message comes from the owner of the private key, and that no one has altered the message. "
   ]
  },
  {
   "cell_type": "code",
   "execution_count": 19,
   "metadata": {
    "collapsed": false
   },
   "outputs": [
    {
     "data": {
      "text/plain": [
       "[149135777980097582635656205376687025111355119538120755623372731861778300928L]"
      ]
     },
     "execution_count": 19,
     "metadata": {},
     "output_type": "execute_result"
    }
   ],
   "source": [
    "reply = \"This is really bar.\"\n",
    "encoded_reply = rsa.Message.Encode(reply, bar.N)\n",
    "encoded_reply.numbers"
   ]
  },
  {
   "cell_type": "markdown",
   "metadata": {},
   "source": [
    "We have to compute the signature manually, as the rsa module won't let us do it directly."
   ]
  },
  {
   "cell_type": "code",
   "execution_count": 20,
   "metadata": {
    "collapsed": false
   },
   "outputs": [],
   "source": [
    "s = rsa.modexp(encoded_reply.numbers[0], bar.d, bar.N)"
   ]
  },
  {
   "cell_type": "code",
   "execution_count": 21,
   "metadata": {
    "collapsed": false
   },
   "outputs": [
    {
     "data": {
      "text/plain": [
       "10633483093047333118891406887219194390850355482697068508554850257186593135836L"
      ]
     },
     "execution_count": 21,
     "metadata": {},
     "output_type": "execute_result"
    }
   ],
   "source": [
    "s"
   ]
  },
  {
   "cell_type": "markdown",
   "metadata": {},
   "source": [
    "If foo receives a message claiming to come from bar, he can use bar's public key to confirm."
   ]
  },
  {
   "cell_type": "code",
   "execution_count": 22,
   "metadata": {
    "collapsed": true
   },
   "outputs": [],
   "source": [
    "verify = encoded_reply\n",
    "verify.numbers = [rsa.modexp(s, barpub.e, barpub.N)]"
   ]
  },
  {
   "cell_type": "code",
   "execution_count": 23,
   "metadata": {
    "collapsed": false
   },
   "outputs": [
    {
     "data": {
      "text/plain": [
       "'This is really bar.'"
      ]
     },
     "execution_count": 23,
     "metadata": {},
     "output_type": "execute_result"
    }
   ],
   "source": [
    "plaintext = rsa.Message.Decode(verify)\n",
    "plaintext"
   ]
  },
  {
   "cell_type": "code",
   "execution_count": 24,
   "metadata": {
    "collapsed": false
   },
   "outputs": [
    {
     "data": {
      "text/plain": [
       "True"
      ]
     },
     "execution_count": 24,
     "metadata": {},
     "output_type": "execute_result"
    }
   ],
   "source": [
    "plaintext == reply"
   ]
  },
  {
   "cell_type": "code",
   "execution_count": null,
   "metadata": {
    "collapsed": true
   },
   "outputs": [],
   "source": []
  }
 ],
 "metadata": {
  "kernelspec": {
   "display_name": "Python 2",
   "language": "python",
   "name": "python2"
  },
  "language_info": {
   "codemirror_mode": {
    "name": "ipython",
    "version": 2
   },
   "file_extension": ".py",
   "mimetype": "text/x-python",
   "name": "python",
   "nbconvert_exporter": "python",
   "pygments_lexer": "ipython2",
   "version": "2.7.10"
  }
 },
 "nbformat": 4,
 "nbformat_minor": 0
}
