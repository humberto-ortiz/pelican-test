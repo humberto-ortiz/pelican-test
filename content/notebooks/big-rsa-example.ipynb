{
 "cells": [
  {
   "cell_type": "markdown",
   "metadata": {},
   "source": [
    "# Introduction\n",
    "\n",
    "In a [previous post](//ccom.uprrp.edu/~humberto/very-small-rsa-example.html) we did a very small example of RSA, following [the tutorial by Barry Steyn](http://doctrina.org/How-RSA-Works-With-Examples.html). For working with modular integer arithmetic we used functions from a [toy RSA implementation by Alex Roper](https://github.com/calmofthestorm/toys/blob/master/rsa/rsa.py).\n",
    "\n",
    "That toy implementation has functions for doing plain old RSA with larger keys, and support for encoding strings (and files, from the command line). We're going to use them today to encrypt and sign simple messages."
   ]
  },
  {
   "cell_type": "markdown",
   "metadata": {},
   "source": [
    "# Generating keys\n",
    "\n",
    "With the rsa module, we can generate keys of a specified number of bits. Keys smaller than 2048 bits are not considered secure, but for this example we'll use smaller keys to speed up key generation."
   ]
  },
  {
   "cell_type": "code",
   "execution_count": 1,
   "metadata": {
    "collapsed": true
   },
   "outputs": [],
   "source": [
    "import rsa\n",
    "\n",
    "foo = rsa.RSAPrivateKey(128)"
   ]
  },
  {
   "cell_type": "markdown",
   "metadata": {},
   "source": [
    "Even with the reduced key size we specified, the public modulus is a very large number."
   ]
  },
  {
   "cell_type": "code",
   "execution_count": 2,
   "metadata": {
    "collapsed": false
   },
   "outputs": [
    {
     "data": {
      "text/plain": [
       "68370482026600844229521955610755481098278530567788306210651917292224719084819L"
      ]
     },
     "execution_count": 2,
     "metadata": {},
     "output_type": "execute_result"
    }
   ],
   "source": [
    "foo.N"
   ]
  },
  {
   "cell_type": "markdown",
   "metadata": {},
   "source": [
    "# Factoring"
   ]
  },
  {
   "cell_type": "code",
   "execution_count": null,
   "metadata": {
    "collapsed": true
   },
   "outputs": [],
   "source": [
    "Factoring this would require serious resources. Factorizing with the sieve of erathostenes. See stack overflow.\n"
   ]
  },
  {
   "cell_type": "code",
   "execution_count": 3,
   "metadata": {
    "collapsed": false
   },
   "outputs": [],
   "source": [
    "import primefac\n",
    "import timeit"
   ]
  },
  {
   "cell_type": "markdown",
   "metadata": {
    "collapsed": true
   },
   "source": [
    "Let's make some primes and factor them."
   ]
  },
  {
   "cell_type": "code",
   "execution_count": 6,
   "metadata": {
    "collapsed": false
   },
   "outputs": [
    {
     "name": "stdout",
     "output_type": "stream",
     "text": [
      "8 33673\n",
      "1 loops, best of 1: 157 µs per loop\n",
      "16 3496158793\n",
      "1 loops, best of 1: 2.57 ms per loop\n",
      "24 170162700747679\n",
      "1 loops, best of 1: 17.2 ms per loop\n",
      "32 11797182473289991741\n",
      "1 loops, best of 1: 342 ms per loop\n",
      "40 598574179624413486323051\n",
      "1 loops, best of 1: 1.14 s per loop\n",
      "48 53305691370053663600773228133\n",
      "1 loops, best of 1: 5.58 s per loop\n",
      "56 3739057272664041988953464499368431\n",
      "1 loops, best of 1: 13.8 s per loop\n",
      "64 133108800856135241553003000666612998339\n",
      "1 loops, best of 1: 25.3 s per loop\n",
      "72 11641354051455483501811708791408238681652651\n",
      "1 loops, best of 1: 1min 34s per loop\n",
      "80 869315640829488940846064309793021361205721553823\n",
      "1 loops, best of 1: 8min 24s per loop\n",
      "88 53684780748507109832926561055532456679251674537606021\n",
      "1 loops, best of 1: 15min 43s per loop\n",
      "96 2347293817290903099341738590810621775275928061978782446789\n",
      "1 loops, best of 1: 11min 57s per loop\n"
     ]
    }
   ],
   "source": [
    "for bits in range(8, 97, 8):\n",
    "    foo = rsa.RSAPrivateKey(bits)\n",
    "    print bits, foo.N\n",
    "    %timeit -n 1 -r 1 list(primefac.primefac(foo.N))"
   ]
  },
  {
   "cell_type": "code",
   "execution_count": 16,
   "metadata": {
    "collapsed": false
   },
   "outputs": [],
   "source": [
    "keysizes = range(8, 97, 8)\n",
    "times = [157e-4, 2.57e-3, 17.2e-3, 342e-3, 1.14, 5.58, 13.8, 25.3, 94, 8*60+24, 15*60+43, 11*60+57]"
   ]
  },
  {
   "cell_type": "code",
   "execution_count": 22,
   "metadata": {
    "collapsed": false
   },
   "outputs": [
    {
     "data": {
      "image/png": "[encoded data removed]",
      "text/plain": [
       "<matplotlib.figure.Figure at 0x7fefc82a07d0>"
      ]
     },
     "metadata": {},
     "output_type": "display_data"
    }
   ],
   "source": [
    "%matplotlib inline\n",
    "import matplotlib, numpy\n",
    "#matplotlib.use('Agg')\n",
    "import matplotlib.pyplot as plt\n",
    "fig=plt.figure()\n",
    "plt.plot(keysizes, times)\n",
    "plt.yscale('log')\n",
    "fig.tight_layout()\n"
   ]
  },
  {
   "cell_type": "code",
   "execution_count": 10,
   "metadata": {
    "collapsed": false
   },
   "outputs": [
    {
     "data": {
      "text/plain": [
       "2347293817290903099341738590810621775275928061978782446789L"
      ]
     },
     "execution_count": 10,
     "metadata": {},
     "output_type": "execute_result"
    }
   ],
   "source": [
    "foo.N"
   ]
  },
  {
   "cell_type": "markdown",
   "metadata": {},
   "source": [
    "As before, the public key is (e, N) and the private key is (d, N)."
   ]
  },
  {
   "cell_type": "code",
   "execution_count": 11,
   "metadata": {
    "collapsed": false
   },
   "outputs": [
    {
     "data": {
      "text/plain": [
       "3"
      ]
     },
     "execution_count": 11,
     "metadata": {},
     "output_type": "execute_result"
    }
   ],
   "source": [
    "foo.e"
   ]
  },
  {
   "cell_type": "code",
   "execution_count": 12,
   "metadata": {
    "collapsed": false
   },
   "outputs": [
    {
     "data": {
      "text/plain": [
       "1564862544860602066227825727142017115768813211347560431787L"
      ]
     },
     "execution_count": 12,
     "metadata": {},
     "output_type": "execute_result"
    }
   ],
   "source": [
    "foo.d"
   ]
  },
  {
   "cell_type": "markdown",
   "metadata": {},
   "source": [
    "I modified rsa.py to store p, q, and phi(n), so I can dig around the internals of RSA."
   ]
  },
  {
   "cell_type": "code",
   "execution_count": 5,
   "metadata": {
    "collapsed": false
   },
   "outputs": [
    {
     "data": {
      "text/plain": [
       "55622303509980058401201317471604932276060442074670233879067983748242366318556L"
      ]
     },
     "execution_count": 5,
     "metadata": {},
     "output_type": "execute_result"
    }
   ],
   "source": [
    "foo.phi"
   ]
  },
  {
   "cell_type": "markdown",
   "metadata": {},
   "source": [
    "We can quickly verify that e and d are multiplicative inverses in the integers modulo phi(n)."
   ]
  },
  {
   "cell_type": "code",
   "execution_count": 6,
   "metadata": {
    "collapsed": false
   },
   "outputs": [
    {
     "data": {
      "text/plain": [
       "1L"
      ]
     },
     "execution_count": 6,
     "metadata": {},
     "output_type": "execute_result"
    }
   ],
   "source": [
    "(foo.e * foo.d) % foo.phi"
   ]
  },
  {
   "cell_type": "markdown",
   "metadata": {},
   "source": [
    "# Encryption\n",
    "\n",
    "If foo wants to send an encrypted message to bar, he will need bar's public key."
   ]
  },
  {
   "cell_type": "code",
   "execution_count": 23,
   "metadata": {
    "collapsed": false
   },
   "outputs": [],
   "source": [
    "bar = rsa.RSAPrivateKey(128)\n",
    "barpub = bar.GetPublicKey()"
   ]
  },
  {
   "cell_type": "markdown",
   "metadata": {},
   "source": [
    "We will prepare a message to send to bar."
   ]
  },
  {
   "cell_type": "code",
   "execution_count": 24,
   "metadata": {
    "collapsed": false
   },
   "outputs": [],
   "source": [
    "m = \"Attack at dawn. This is a really long message to see if I can get rsa \\\n",
    "to encode it as more than one number.\""
   ]
  },
  {
   "cell_type": "markdown",
   "metadata": {},
   "source": [
    "Recall from last post that we can only encode numbers smaller than n. If we wish to send a longer message, we need to divide it into smaller pieces and send a sequence. For this we need to know bar's public modulus."
   ]
  },
  {
   "cell_type": "code",
   "execution_count": 25,
   "metadata": {
    "collapsed": false
   },
   "outputs": [
    {
     "data": {
      "text/plain": [
       "[115648799396826751567766945599864979770100194381312838842529118569426414700L,\n",
       " 214012274130603322894259128424238691739369727293888509978752859858830192160L,\n",
       " 182685454824088443191059084189136997345550917941544886668325422864334353512L,\n",
       " 172144231835021845661017141195722362689495106685351054972168510011550466048L]"
      ]
     },
     "execution_count": 25,
     "metadata": {},
     "output_type": "execute_result"
    }
   ],
   "source": [
    "encoded = rsa.Message.Encode(m, barpub.N)\n",
    "encoded.numbers"
   ]
  },
  {
   "cell_type": "markdown",
   "metadata": {},
   "source": [
    "Now we are ready to compute the cyphertext. This transforms the encoded message into a cyphertext that only bar's private key can decrypt."
   ]
  },
  {
   "cell_type": "code",
   "execution_count": 26,
   "metadata": {
    "collapsed": false
   },
   "outputs": [],
   "source": [
    "c = barpub.Encrypt(encoded)"
   ]
  },
  {
   "cell_type": "code",
   "execution_count": 27,
   "metadata": {
    "collapsed": false
   },
   "outputs": [
    {
     "data": {
      "text/plain": [
       "[15312045657251533996573666661924358169045681847125342761792416520040266208574L,\n",
       " 25519902372758601831957765798227925694449755591574454493300216816866460554936L,\n",
       " 33664897869351852965636691119296097528789387994974562564066535337280550171959L,\n",
       " 3857932400280975337021583394112949884183369908209667710085673982640585490437L]"
      ]
     },
     "execution_count": 27,
     "metadata": {},
     "output_type": "execute_result"
    }
   ],
   "source": [
    "c.numbers"
   ]
  },
  {
   "cell_type": "code",
   "execution_count": 28,
   "metadata": {
    "collapsed": false
   },
   "outputs": [
    {
     "data": {
      "text/plain": [
       "'Attack at dawn. This is a really long message to see if I can get rsa to encode it as more than one number.'"
      ]
     },
     "execution_count": 28,
     "metadata": {},
     "output_type": "execute_result"
    }
   ],
   "source": [
    "bar.Decrypt(c).Decode()"
   ]
  },
  {
   "cell_type": "markdown",
   "metadata": {},
   "source": [
    "# Signatures\n",
    "\n",
    "A digital signature is just a message that has been encrypted with someone's private key. Thus anyone with the public key can verify that the message comes from the owner of the private key, and that no one has altered the message. "
   ]
  },
  {
   "cell_type": "code",
   "execution_count": 29,
   "metadata": {
    "collapsed": false
   },
   "outputs": [
    {
     "data": {
      "text/plain": [
       "[149135777980097582635656205376687025111355119538120755623372731861778300928L]"
      ]
     },
     "execution_count": 29,
     "metadata": {},
     "output_type": "execute_result"
    }
   ],
   "source": [
    "reply = \"This is really bar.\"\n",
    "encoded_reply = rsa.Message.Encode(reply, bar.N)\n",
    "encoded_reply.numbers"
   ]
  },
  {
   "cell_type": "markdown",
   "metadata": {},
   "source": [
    "We have to compute the signature manually, as the rsa module won't let us do it directly."
   ]
  },
  {
   "cell_type": "code",
   "execution_count": 31,
   "metadata": {
    "collapsed": false
   },
   "outputs": [],
   "source": [
    "s = rsa.modexp(encoded_reply.numbers[0], bar.d, bar.N)"
   ]
  },
  {
   "cell_type": "code",
   "execution_count": 15,
   "metadata": {
    "collapsed": false
   },
   "outputs": [
    {
     "data": {
      "text/plain": [
       "79482082372224077031364631212447551920995692144876852609977919004935413771073L"
      ]
     },
     "execution_count": 15,
     "metadata": {},
     "output_type": "execute_result"
    }
   ],
   "source": [
    "s"
   ]
  },
  {
   "cell_type": "markdown",
   "metadata": {},
   "source": [
    "If foo receives a message claiming to come from bar, he can use bar's public key to confirm."
   ]
  },
  {
   "cell_type": "code",
   "execution_count": 32,
   "metadata": {
    "collapsed": true
   },
   "outputs": [],
   "source": [
    "verify = encoded_reply\n",
    "verify.numbers = [rsa.modexp(s, barpub.e, barpub.N)]"
   ]
  },
  {
   "cell_type": "code",
   "execution_count": 33,
   "metadata": {
    "collapsed": false
   },
   "outputs": [
    {
     "data": {
      "text/plain": [
       "'This is really bar.'"
      ]
     },
     "execution_count": 33,
     "metadata": {},
     "output_type": "execute_result"
    }
   ],
   "source": [
    "plaintext = rsa.Message.Decode(verify)\n",
    "plaintext"
   ]
  },
  {
   "cell_type": "code",
   "execution_count": 34,
   "metadata": {
    "collapsed": false
   },
   "outputs": [
    {
     "data": {
      "text/plain": [
       "True"
      ]
     },
     "execution_count": 34,
     "metadata": {},
     "output_type": "execute_result"
    }
   ],
   "source": [
    "plaintext == reply"
   ]
  }
 ],
 "metadata": {
  "kernelspec": {
   "display_name": "Python 2",
   "language": "python",
   "name": "python2"
  },
  "language_info": {
   "codemirror_mode": {
    "name": "ipython",
    "version": 2
   },
   "file_extension": ".py",
   "mimetype": "text/x-python",
   "name": "python",
   "nbconvert_exporter": "python",
   "pygments_lexer": "ipython2",
   "version": "2.7.10"
  }
 },
 "nbformat": 4,
 "nbformat_minor": 0
}
